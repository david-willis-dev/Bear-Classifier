{
  "cells": [
    {
      "cell_type": "code",
      "execution_count": 6,
      "metadata": {
        "id": "lce5K97mo_1w"
      },
      "outputs": [],
      "source": [
        "from fastai.vision.all import *\n",
        "from fastai.vision.widgets import *"
      ]
    },
    {
      "cell_type": "markdown",
      "metadata": {
        "id": "PTCb1GAvo_1y"
      },
      "source": [
        "# The Amazing Bear Classifier!"
      ]
    },
    {
      "cell_type": "markdown",
      "metadata": {
        "id": "ekmNpKT5o_1z"
      },
      "source": [
        "You need to know whether you're being chased by a dangerous grizzly, or a sweet teddy bear, and you need an answer *fast*? Then you've come to the right place. Take a pic of the potentially vicious killer, and click 'upload' to classify it. (Important: this only handles grizzly bears, black bears, and teddy bears. It will **not** give a sensible answer for polar bears, a bear market, a bear of a man, or hot dogs.\n",
        "\n",
        "----"
      ]
    },
    {
      "cell_type": "code",
      "execution_count": 7,
      "metadata": {
        "id": "Jtu_g9DJo_1z"
      },
      "outputs": [],
      "source": [
        "path = Path()\n",
        "learn_inf = load_learner('/content/export.pkl', cpu=True)\n",
        "btn_upload = widgets.FileUpload()\n",
        "out_pl = widgets.Output()\n",
        "lbl_pred = widgets.Label()"
      ]
    },
    {
      "cell_type": "code",
      "execution_count": 8,
      "metadata": {
        "id": "wrTkjfkAo_10"
      },
      "outputs": [],
      "source": [
        "def on_data_change(change):\n",
        "    lbl_pred.value = ''\n",
        "    img = PILImage.create(btn_upload.data[-1])\n",
        "    out_pl.clear_output()\n",
        "    with out_pl: display(img.to_thumb(128,128))\n",
        "    pred,pred_idx,probs = learn_inf.predict(img)\n",
        "    lbl_pred.value = f'Prediction: {pred}; Probability: {probs[pred_idx]:.04f}'"
      ]
    },
    {
      "cell_type": "code",
      "execution_count": 9,
      "metadata": {
        "id": "wJJF3RrHo_11"
      },
      "outputs": [],
      "source": [
        "btn_upload.observe(on_data_change, names=['data'])"
      ]
    },
    {
      "cell_type": "code",
      "execution_count": 10,
      "metadata": {
        "scrolled": false,
        "colab": {
          "base_uri": "https://localhost:8080/",
          "height": 241,
          "referenced_widgets": [
            "0d981aa4275f4e658eef29ea89ebb649",
            "6d305fa83dbe43a0bb4d17eca0be377e",
            "9a4d91793a8c4b1b9c17668ea09d47c7",
            "b6248d24b7ee43e384dd1a8c57ed6a6a",
            "57353725183047b1abc0384e43d097ef",
            "61dbca2e406642da87b026dbc44b7a03",
            "c0227f60668449c18fa54de406f90bae",
            "dfb9d974d07540a49c4450ac0da38b99",
            "1882488f68914fdba520ce4bc70b8a06",
            "2070411f75e64bbab1bea077c94e473a",
            "8583a8c1013f4dbfa9a7fedb543ee385",
            "6c51ae3464dc45e49e78b4a6cb4fb195",
            "aa6653b4232f4ad487537cc6b37e1d9a"
          ]
        },
        "id": "NV_eoMHLo_11",
        "outputId": "6b199dc6-e9b3-4333-e8c5-bce397b3d75e"
      },
      "outputs": [
        {
          "output_type": "display_data",
          "data": {
            "text/plain": [
              "VBox(children=(Label(value='Select your bear!'), FileUpload(value={}, description='Upload'), Output(), Label(v…"
            ],
            "application/vnd.jupyter.widget-view+json": {
              "version_major": 2,
              "version_minor": 0,
              "model_id": "0d981aa4275f4e658eef29ea89ebb649"
            }
          },
          "metadata": {}
        },
        {
          "output_type": "display_data",
          "data": {
            "text/plain": [
              "<IPython.core.display.HTML object>"
            ],
            "text/html": [
              "\n",
              "<style>\n",
              "    /* Turns off some styling */\n",
              "    progress {\n",
              "        /* gets rid of default border in Firefox and Opera. */\n",
              "        border: none;\n",
              "        /* Needs to be in here for Safari polyfill so background images work as expected. */\n",
              "        background-size: auto;\n",
              "    }\n",
              "    progress:not([value]), progress:not([value])::-webkit-progress-bar {\n",
              "        background: repeating-linear-gradient(45deg, #7e7e7e, #7e7e7e 10px, #5c5c5c 10px, #5c5c5c 20px);\n",
              "    }\n",
              "    .progress-bar-interrupted, .progress-bar-interrupted::-webkit-progress-bar {\n",
              "        background: #F44336;\n",
              "    }\n",
              "</style>\n"
            ]
          },
          "metadata": {}
        },
        {
          "output_type": "display_data",
          "data": {
            "text/plain": [
              "<IPython.core.display.HTML object>"
            ],
            "text/html": []
          },
          "metadata": {}
        }
      ],
      "source": [
        "display(VBox([widgets.Label('Select your bear!'), btn_upload, out_pl, lbl_pred]))"
      ]
    },
    {
      "cell_type": "code",
      "execution_count": 10,
      "metadata": {
        "id": "ET-Pz6Uxo_11"
      },
      "outputs": [],
      "source": []
    }
  ],
  "metadata": {
    "jupytext": {
      "split_at_heading": true
    },
    "kernelspec": {
      "display_name": "Python 3",
      "language": "python",
      "name": "python3"
    },
    "language_info": {
      "codemirror_mode": {
        "name": "ipython",
        "version": 3
      },
      "file_extension": ".py",
      "mimetype": "text/x-python",
      "name": "python",
      "nbconvert_exporter": "python",
      "pygments_lexer": "ipython3",
      "version": "3.7.7"
    },
    "toc": {
      "base_numbering": 1,
      "nav_menu": {},
      "number_sections": false,
      "sideBar": true,
      "skip_h1_title": true,
      "title_cell": "Table of Contents",
      "title_sidebar": "Contents",
      "toc_cell": false,
      "toc_position": {},
      "toc_section_display": true,
      "toc_window_display": false
    },
    "colab": {
      "provenance": []
    },
    "widgets": {
      "application/vnd.jupyter.widget-state+json": {
        "0d981aa4275f4e658eef29ea89ebb649": {
          "model_module": "@jupyter-widgets/controls",
          "model_name": "VBoxModel",
          "model_module_version": "1.5.0",
          "state": {
            "_dom_classes": [],
            "_model_module": "@jupyter-widgets/controls",
            "_model_module_version": "1.5.0",
            "_model_name": "VBoxModel",
            "_view_count": null,
            "_view_module": "@jupyter-widgets/controls",
            "_view_module_version": "1.5.0",
            "_view_name": "VBoxView",
            "box_style": "",
            "children": [
              "IPY_MODEL_6d305fa83dbe43a0bb4d17eca0be377e",
              "IPY_MODEL_9a4d91793a8c4b1b9c17668ea09d47c7",
              "IPY_MODEL_b6248d24b7ee43e384dd1a8c57ed6a6a",
              "IPY_MODEL_57353725183047b1abc0384e43d097ef"
            ],
            "layout": "IPY_MODEL_61dbca2e406642da87b026dbc44b7a03"
          }
        },
        "6d305fa83dbe43a0bb4d17eca0be377e": {
          "model_module": "@jupyter-widgets/controls",
          "model_name": "LabelModel",
          "model_module_version": "1.5.0",
          "state": {
            "_dom_classes": [],
            "_model_module": "@jupyter-widgets/controls",
            "_model_module_version": "1.5.0",
            "_model_name": "LabelModel",
            "_view_count": null,
            "_view_module": "@jupyter-widgets/controls",
            "_view_module_version": "1.5.0",
            "_view_name": "LabelView",
            "description": "",
            "description_tooltip": null,
            "layout": "IPY_MODEL_c0227f60668449c18fa54de406f90bae",
            "placeholder": "​",
            "style": "IPY_MODEL_dfb9d974d07540a49c4450ac0da38b99",
            "value": "Select your bear!"
          }
        },
        "9a4d91793a8c4b1b9c17668ea09d47c7": {
          "model_module": "@jupyter-widgets/controls",
          "model_name": "FileUploadModel",
          "model_module_version": "1.5.0",
          "state": {
            "_counter": 1,
            "_dom_classes": [],
            "_model_module": "@jupyter-widgets/controls",
            "_model_module_version": "1.5.0",
            "_model_name": "FileUploadModel",
            "_view_count": null,
            "_view_module": "@jupyter-widgets/controls",
            "_view_module_version": "1.5.0",
            "_view_name": "FileUploadView",
            "accept": "",
            "button_style": "",
            "data": [
              null
            ],
            "description": "Upload",
            "description_tooltip": null,
            "disabled": false,
            "error": "",
            "icon": "upload",
            "layout": "IPY_MODEL_1882488f68914fdba520ce4bc70b8a06",
            "metadata": [
              {
                "name": "grizzly.jpg",
                "type": "image/jpeg",
                "size": 697626,
                "lastModified": 1707190379340
              }
            ],
            "multiple": false,
            "style": "IPY_MODEL_2070411f75e64bbab1bea077c94e473a"
          }
        },
        "b6248d24b7ee43e384dd1a8c57ed6a6a": {
          "model_module": "@jupyter-widgets/output",
          "model_name": "OutputModel",
          "model_module_version": "1.0.0",
          "state": {
            "_dom_classes": [],
            "_model_module": "@jupyter-widgets/output",
            "_model_module_version": "1.0.0",
            "_model_name": "OutputModel",
            "_view_count": null,
            "_view_module": "@jupyter-widgets/output",
            "_view_module_version": "1.0.0",
            "_view_name": "OutputView",
            "layout": "IPY_MODEL_aa6653b4232f4ad487537cc6b37e1d9a",
            "msg_id": "",
            "outputs": [
              {
                "output_type": "display_data",
                "data": {
                  "text/plain": "<PIL.Image.Image image mode=RGB size=108x128>",
                  "image/png": "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\n"
                },
                "metadata": {}
              }
            ]
          }
        },
        "57353725183047b1abc0384e43d097ef": {
          "model_module": "@jupyter-widgets/controls",
          "model_name": "LabelModel",
          "model_module_version": "1.5.0",
          "state": {
            "_dom_classes": [],
            "_model_module": "@jupyter-widgets/controls",
            "_model_module_version": "1.5.0",
            "_model_name": "LabelModel",
            "_view_count": null,
            "_view_module": "@jupyter-widgets/controls",
            "_view_module_version": "1.5.0",
            "_view_name": "LabelView",
            "description": "",
            "description_tooltip": null,
            "layout": "IPY_MODEL_8583a8c1013f4dbfa9a7fedb543ee385",
            "placeholder": "​",
            "style": "IPY_MODEL_6c51ae3464dc45e49e78b4a6cb4fb195",
            "value": "Prediction: grizzly; Probability: 0.9991"
          }
        },
        "61dbca2e406642da87b026dbc44b7a03": {
          "model_module": "@jupyter-widgets/base",
          "model_name": "LayoutModel",
          "model_module_version": "1.2.0",
          "state": {
            "_model_module": "@jupyter-widgets/base",
            "_model_module_version": "1.2.0",
            "_model_name": "LayoutModel",
            "_view_count": null,
            "_view_module": "@jupyter-widgets/base",
            "_view_module_version": "1.2.0",
            "_view_name": "LayoutView",
            "align_content": null,
            "align_items": null,
            "align_self": null,
            "border": null,
            "bottom": null,
            "display": null,
            "flex": null,
            "flex_flow": null,
            "grid_area": null,
            "grid_auto_columns": null,
            "grid_auto_flow": null,
            "grid_auto_rows": null,
            "grid_column": null,
            "grid_gap": null,
            "grid_row": null,
            "grid_template_areas": null,
            "grid_template_columns": null,
            "grid_template_rows": null,
            "height": null,
            "justify_content": null,
            "justify_items": null,
            "left": null,
            "margin": null,
            "max_height": null,
            "max_width": null,
            "min_height": null,
            "min_width": null,
            "object_fit": null,
            "object_position": null,
            "order": null,
            "overflow": null,
            "overflow_x": null,
            "overflow_y": null,
            "padding": null,
            "right": null,
            "top": null,
            "visibility": null,
            "width": null
          }
        },
        "c0227f60668449c18fa54de406f90bae": {
          "model_module": "@jupyter-widgets/base",
          "model_name": "LayoutModel",
          "model_module_version": "1.2.0",
          "state": {
            "_model_module": "@jupyter-widgets/base",
            "_model_module_version": "1.2.0",
            "_model_name": "LayoutModel",
            "_view_count": null,
            "_view_module": "@jupyter-widgets/base",
            "_view_module_version": "1.2.0",
            "_view_name": "LayoutView",
            "align_content": null,
            "align_items": null,
            "align_self": null,
            "border": null,
            "bottom": null,
            "display": null,
            "flex": null,
            "flex_flow": null,
            "grid_area": null,
            "grid_auto_columns": null,
            "grid_auto_flow": null,
            "grid_auto_rows": null,
            "grid_column": null,
            "grid_gap": null,
            "grid_row": null,
            "grid_template_areas": null,
            "grid_template_columns": null,
            "grid_template_rows": null,
            "height": null,
            "justify_content": null,
            "justify_items": null,
            "left": null,
            "margin": null,
            "max_height": null,
            "max_width": null,
            "min_height": null,
            "min_width": null,
            "object_fit": null,
            "object_position": null,
            "order": null,
            "overflow": null,
            "overflow_x": null,
            "overflow_y": null,
            "padding": null,
            "right": null,
            "top": null,
            "visibility": null,
            "width": null
          }
        },
        "dfb9d974d07540a49c4450ac0da38b99": {
          "model_module": "@jupyter-widgets/controls",
          "model_name": "DescriptionStyleModel",
          "model_module_version": "1.5.0",
          "state": {
            "_model_module": "@jupyter-widgets/controls",
            "_model_module_version": "1.5.0",
            "_model_name": "DescriptionStyleModel",
            "_view_count": null,
            "_view_module": "@jupyter-widgets/base",
            "_view_module_version": "1.2.0",
            "_view_name": "StyleView",
            "description_width": ""
          }
        },
        "1882488f68914fdba520ce4bc70b8a06": {
          "model_module": "@jupyter-widgets/base",
          "model_name": "LayoutModel",
          "model_module_version": "1.2.0",
          "state": {
            "_model_module": "@jupyter-widgets/base",
            "_model_module_version": "1.2.0",
            "_model_name": "LayoutModel",
            "_view_count": null,
            "_view_module": "@jupyter-widgets/base",
            "_view_module_version": "1.2.0",
            "_view_name": "LayoutView",
            "align_content": null,
            "align_items": null,
            "align_self": null,
            "border": null,
            "bottom": null,
            "display": null,
            "flex": null,
            "flex_flow": null,
            "grid_area": null,
            "grid_auto_columns": null,
            "grid_auto_flow": null,
            "grid_auto_rows": null,
            "grid_column": null,
            "grid_gap": null,
            "grid_row": null,
            "grid_template_areas": null,
            "grid_template_columns": null,
            "grid_template_rows": null,
            "height": null,
            "justify_content": null,
            "justify_items": null,
            "left": null,
            "margin": null,
            "max_height": null,
            "max_width": null,
            "min_height": null,
            "min_width": null,
            "object_fit": null,
            "object_position": null,
            "order": null,
            "overflow": null,
            "overflow_x": null,
            "overflow_y": null,
            "padding": null,
            "right": null,
            "top": null,
            "visibility": null,
            "width": null
          }
        },
        "2070411f75e64bbab1bea077c94e473a": {
          "model_module": "@jupyter-widgets/controls",
          "model_name": "ButtonStyleModel",
          "model_module_version": "1.5.0",
          "state": {
            "_model_module": "@jupyter-widgets/controls",
            "_model_module_version": "1.5.0",
            "_model_name": "ButtonStyleModel",
            "_view_count": null,
            "_view_module": "@jupyter-widgets/base",
            "_view_module_version": "1.2.0",
            "_view_name": "StyleView",
            "button_color": null,
            "font_weight": ""
          }
        },
        "8583a8c1013f4dbfa9a7fedb543ee385": {
          "model_module": "@jupyter-widgets/base",
          "model_name": "LayoutModel",
          "model_module_version": "1.2.0",
          "state": {
            "_model_module": "@jupyter-widgets/base",
            "_model_module_version": "1.2.0",
            "_model_name": "LayoutModel",
            "_view_count": null,
            "_view_module": "@jupyter-widgets/base",
            "_view_module_version": "1.2.0",
            "_view_name": "LayoutView",
            "align_content": null,
            "align_items": null,
            "align_self": null,
            "border": null,
            "bottom": null,
            "display": null,
            "flex": null,
            "flex_flow": null,
            "grid_area": null,
            "grid_auto_columns": null,
            "grid_auto_flow": null,
            "grid_auto_rows": null,
            "grid_column": null,
            "grid_gap": null,
            "grid_row": null,
            "grid_template_areas": null,
            "grid_template_columns": null,
            "grid_template_rows": null,
            "height": null,
            "justify_content": null,
            "justify_items": null,
            "left": null,
            "margin": null,
            "max_height": null,
            "max_width": null,
            "min_height": null,
            "min_width": null,
            "object_fit": null,
            "object_position": null,
            "order": null,
            "overflow": null,
            "overflow_x": null,
            "overflow_y": null,
            "padding": null,
            "right": null,
            "top": null,
            "visibility": null,
            "width": null
          }
        },
        "6c51ae3464dc45e49e78b4a6cb4fb195": {
          "model_module": "@jupyter-widgets/controls",
          "model_name": "DescriptionStyleModel",
          "model_module_version": "1.5.0",
          "state": {
            "_model_module": "@jupyter-widgets/controls",
            "_model_module_version": "1.5.0",
            "_model_name": "DescriptionStyleModel",
            "_view_count": null,
            "_view_module": "@jupyter-widgets/base",
            "_view_module_version": "1.2.0",
            "_view_name": "StyleView",
            "description_width": ""
          }
        },
        "aa6653b4232f4ad487537cc6b37e1d9a": {
          "model_module": "@jupyter-widgets/base",
          "model_name": "LayoutModel",
          "model_module_version": "1.2.0",
          "state": {
            "_model_module": "@jupyter-widgets/base",
            "_model_module_version": "1.2.0",
            "_model_name": "LayoutModel",
            "_view_count": null,
            "_view_module": "@jupyter-widgets/base",
            "_view_module_version": "1.2.0",
            "_view_name": "LayoutView",
            "align_content": null,
            "align_items": null,
            "align_self": null,
            "border": null,
            "bottom": null,
            "display": null,
            "flex": null,
            "flex_flow": null,
            "grid_area": null,
            "grid_auto_columns": null,
            "grid_auto_flow": null,
            "grid_auto_rows": null,
            "grid_column": null,
            "grid_gap": null,
            "grid_row": null,
            "grid_template_areas": null,
            "grid_template_columns": null,
            "grid_template_rows": null,
            "height": null,
            "justify_content": null,
            "justify_items": null,
            "left": null,
            "margin": null,
            "max_height": null,
            "max_width": null,
            "min_height": null,
            "min_width": null,
            "object_fit": null,
            "object_position": null,
            "order": null,
            "overflow": null,
            "overflow_x": null,
            "overflow_y": null,
            "padding": null,
            "right": null,
            "top": null,
            "visibility": null,
            "width": null
          }
        }
      }
    }
  },
  "nbformat": 4,
  "nbformat_minor": 0
}